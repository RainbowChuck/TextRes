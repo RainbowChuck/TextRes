{
 "cells": [
  {
   "cell_type": "code",
   "execution_count": 1,
   "id": "5cebf6b5",
   "metadata": {},
   "outputs": [
    {
     "name": "stdout",
     "output_type": "stream",
     "text": [
      "[]\n"
     ]
    }
   ],
   "source": [
    "import requests\n",
    "from bs4 import BeautifulSoup\n",
    "import json\n",
    "\n",
    "def get_vacancies_from_headhunter(query, num_pages=1):\n",
    "    \"\"\"\n",
    "    Функция для сбора вакансий с сайта HeadHunter по запросу.\n",
    "    :param query: Строка запроса (например, 'Python Developer')\n",
    "    :param num_pages: Количество страниц для сбора вакансий\n",
    "    :return: Список вакансий в формате JSON\n",
    "    \"\"\"\n",
    "    base_url = 'https://hh.ru/search/vacancy'\n",
    "    vacancies = []\n",
    "    \n",
    "    for page in range(num_pages):\n",
    "        params = {'text': query, 'page': page}\n",
    "        response = requests.get(base_url, params=params)\n",
    "        \n",
    "        soup = BeautifulSoup(response.text, 'html.parser')\n",
    "        \n",
    "        for vacancy in soup.find_all('div', {'class': 'vacancy-serp-item'}):\n",
    "            title = vacancy.find('a', {'class': 'bloko-link'}).text.strip()\n",
    "            company = vacancy.find('div', {'class': 'vacancy-serp-item__meta-info'}).text.strip()\n",
    "            link = vacancy.find('a', {'class': 'bloko-link'})['href']\n",
    "            \n",
    "            vacancies.append({\n",
    "                'title': title,\n",
    "                'company': company,\n",
    "                'link': link\n",
    "            })\n",
    "    \n",
    "    return vacancies\n",
    "\n",
    "# Пример запроса\n",
    "vacancies = get_vacancies_from_headhunter('Python Developer', num_pages=2)\n",
    "print(json.dumps(vacancies, indent=4, ensure_ascii=False))\n"
   ]
  },
  {
   "cell_type": "code",
   "execution_count": 2,
   "id": "cfbdbd2d",
   "metadata": {},
   "outputs": [
    {
     "name": "stdout",
     "output_type": "stream",
     "text": [
      "Epoch 1/10\n",
      "2/2 [==============================] - 1s 212ms/step - loss: 0.7760 - accuracy: 0.0000e+00 - val_loss: 0.7435 - val_accuracy: 0.0000e+00\n",
      "Epoch 2/10\n",
      "2/2 [==============================] - 0s 31ms/step - loss: 0.7324 - accuracy: 0.2500 - val_loss: 0.7183 - val_accuracy: 0.5000\n",
      "Epoch 3/10\n",
      "2/2 [==============================] - 0s 32ms/step - loss: 0.6965 - accuracy: 0.2500 - val_loss: 0.6945 - val_accuracy: 0.5000\n",
      "Epoch 4/10\n",
      "2/2 [==============================] - 0s 24ms/step - loss: 0.6647 - accuracy: 0.5000 - val_loss: 0.6726 - val_accuracy: 0.5000\n",
      "Epoch 5/10\n",
      "2/2 [==============================] - 0s 27ms/step - loss: 0.6355 - accuracy: 1.0000 - val_loss: 0.6515 - val_accuracy: 0.5000\n",
      "Epoch 6/10\n",
      "2/2 [==============================] - 0s 25ms/step - loss: 0.6093 - accuracy: 1.0000 - val_loss: 0.6290 - val_accuracy: 1.0000\n",
      "Epoch 7/10\n",
      "2/2 [==============================] - 0s 33ms/step - loss: 0.5853 - accuracy: 1.0000 - val_loss: 0.6074 - val_accuracy: 1.0000\n",
      "Epoch 8/10\n",
      "2/2 [==============================] - 0s 29ms/step - loss: 0.5610 - accuracy: 1.0000 - val_loss: 0.5862 - val_accuracy: 1.0000\n",
      "Epoch 9/10\n",
      "2/2 [==============================] - 0s 26ms/step - loss: 0.5367 - accuracy: 1.0000 - val_loss: 0.5643 - val_accuracy: 1.0000\n",
      "Epoch 10/10\n",
      "2/2 [==============================] - 0s 25ms/step - loss: 0.5115 - accuracy: 1.0000 - val_loss: 0.5418 - val_accuracy: 1.0000\n",
      "[]\n"
     ]
    }
   ],
   "source": [
    "import numpy as np\n",
    "import tensorflow as tf\n",
    "from tensorflow.keras.models import Sequential\n",
    "from tensorflow.keras.layers import Dense\n",
    "from sklearn.feature_extraction.text import TfidfVectorizer\n",
    "from sklearn.model_selection import train_test_split\n",
    "\n",
    "# Данные\n",
    "resume_texts = [\"Experienced in Python and Machine Learning\", \"Expert in AWS and cloud technologies\", \"Skilled in data analysis and SQL\"]\n",
    "job_descriptions = [\"Looking for a Python developer with ML expertise\", \"Hiring for an AWS specialist\", \"Seeking a SQL data analyst\"]\n",
    "labels = [1, 1, 1]  # Метки, где 1 означает соответствие, а 0 - несоответствие\n",
    "\n",
    "# Преобразование текста в числовые векторы\n",
    "vectorizer = TfidfVectorizer()\n",
    "X = vectorizer.fit_transform(resume_texts + job_descriptions).toarray()\n",
    "\n",
    "# Размерность входного слоя\n",
    "input_dim = X.shape[1]\n",
    "\n",
    "# Разделение данных на обучающую и тестовую выборки\n",
    "X_train, X_test, y_train, y_test = train_test_split(X, labels * 2, test_size=0.2, random_state=42)\n",
    "\n",
    "# Модель\n",
    "model = Sequential([\n",
    "    Dense(128, activation='relu', input_shape=(input_dim,)),\n",
    "    Dense(64, activation='relu'),\n",
    "    Dense(1, activation='sigmoid')\n",
    "])\n",
    "\n",
    "# Компиляция модели\n",
    "model.compile(optimizer='adam', loss='binary_crossentropy', metrics=['accuracy'])\n",
    "\n",
    "# Обучение модели\n",
    "model.fit(np.array(X_train), np.array(y_train), epochs=10, batch_size=2, validation_data=(np.array(X_test), np.array(y_test)))\n",
    "\n",
    "# Пример использования модели для предсказания подходящих вакансий\n",
    "def predict_vacancy_match(resume, vacancies):\n",
    "    resume_vector = vectorizer.transform([resume]).toarray()\n",
    "    results = []\n",
    "    \n",
    "    for vacancy in vacancies:\n",
    "        vacancy_vector = vectorizer.transform([vacancy['title'] + ' ' + vacancy['company']]).toarray()\n",
    "        match_score = model.predict(np.array([np.concatenate((resume_vector, vacancy_vector))]))\n",
    "        results.append({\n",
    "            'title': vacancy['title'],\n",
    "            'company': vacancy['company'],\n",
    "            'link': vacancy['link'],\n",
    "            'match_score': match_score[0][0]\n",
    "        })\n",
    "    \n",
    "    return results\n",
    "\n",
    "# Пример предсказания для резюме и вакансий с сайта HeadHunter\n",
    "resume = \"Experienced in Python and data analysis\"\n",
    "vacancy_matches = predict_vacancy_match(resume, vacancies)\n",
    "print(json.dumps(vacancy_matches, indent=4, ensure_ascii=False))\n"
   ]
  },
  {
   "cell_type": "code",
   "execution_count": 3,
   "id": "9b137b2b",
   "metadata": {},
   "outputs": [],
   "source": [
    "import json\n",
    "\n",
    "def save_vacancy_matches_to_json(vacancy_matches, filename='vacancy_matches.json'):\n",
    "    with open(filename, 'w', encoding='utf-8') as f:\n",
    "        json.dump(vacancy_matches, f, ensure_ascii=False, indent=4)\n",
    "\n",
    "# Сохраняем результат в JSON файл\n",
    "save_vacancy_matches_to_json(vacancy_matches)\n"
   ]
  },
  {
   "cell_type": "code",
   "execution_count": 5,
   "id": "631e2152",
   "metadata": {},
   "outputs": [
    {
     "ename": "ModuleNotFoundError",
     "evalue": "No module named 'streamlit'",
     "output_type": "error",
     "traceback": [
      "\u001b[0;31m---------------------------------------------------------------------------\u001b[0m",
      "\u001b[0;31mModuleNotFoundError\u001b[0m                       Traceback (most recent call last)",
      "\u001b[0;32m<ipython-input-5-1aa3dc4fa683>\u001b[0m in \u001b[0;36m<module>\u001b[0;34m\u001b[0m\n\u001b[0;32m----> 1\u001b[0;31m \u001b[0;32mimport\u001b[0m \u001b[0mstreamlit\u001b[0m \u001b[0;32mas\u001b[0m \u001b[0mst\u001b[0m\u001b[0;34m\u001b[0m\u001b[0;34m\u001b[0m\u001b[0m\n\u001b[0m",
      "\u001b[0;31mModuleNotFoundError\u001b[0m: No module named 'streamlit'"
     ]
    }
   ],
   "source": [
    "import streamlit as st"
   ]
  },
  {
   "cell_type": "code",
   "execution_count": 4,
   "id": "7a635aa9",
   "metadata": {},
   "outputs": [
    {
     "ename": "ModuleNotFoundError",
     "evalue": "No module named 'streamlit'",
     "output_type": "error",
     "traceback": [
      "\u001b[0;31m---------------------------------------------------------------------------\u001b[0m",
      "\u001b[0;31mModuleNotFoundError\u001b[0m                       Traceback (most recent call last)",
      "\u001b[0;32m<ipython-input-4-2509c7210a76>\u001b[0m in \u001b[0;36m<module>\u001b[0;34m\u001b[0m\n\u001b[0;32m----> 1\u001b[0;31m \u001b[0;32mimport\u001b[0m \u001b[0mstreamlit\u001b[0m \u001b[0;32mas\u001b[0m \u001b[0mst\u001b[0m\u001b[0;34m\u001b[0m\u001b[0;34m\u001b[0m\u001b[0m\n\u001b[0m\u001b[1;32m      2\u001b[0m \u001b[0;34m\u001b[0m\u001b[0m\n\u001b[1;32m      3\u001b[0m \u001b[0;31m# Интерфейс\u001b[0m\u001b[0;34m\u001b[0m\u001b[0;34m\u001b[0m\u001b[0;34m\u001b[0m\u001b[0m\n\u001b[1;32m      4\u001b[0m \u001b[0mst\u001b[0m\u001b[0;34m.\u001b[0m\u001b[0mtitle\u001b[0m\u001b[0;34m(\u001b[0m\u001b[0;34m\"Интеллектуальный подбор вакансий\"\u001b[0m\u001b[0;34m)\u001b[0m\u001b[0;34m\u001b[0m\u001b[0;34m\u001b[0m\u001b[0m\n\u001b[1;32m      5\u001b[0m \u001b[0;34m\u001b[0m\u001b[0m\n",
      "\u001b[0;31mModuleNotFoundError\u001b[0m: No module named 'streamlit'"
     ]
    }
   ],
   "source": [
    "\n",
    "\n",
    "# Интерфейс\n",
    "st.title(\"Интеллектуальный подбор вакансий\")\n",
    "\n",
    "resume_input = st.text_area(\"Введите текст резюме\")\n",
    "\n",
    "if st.button(\"Поиск вакансий\"):\n",
    "    if resume_input:\n",
    "        # Получаем вакансии с сайта HeadHunter\n",
    "        vacancies = get_vacancies_from_headhunter('Python Developer', num_pages=2)\n",
    "        \n",
    "        # Получаем подходящие вакансии\n",
    "        vacancy_matches = predict_vacancy_match(resume_input, vacancies)\n",
    "        \n",
    "        # Отображаем результаты\n",
    "        st.write(\"Подходящие вакансии:\")\n",
    "        for match in vacancy_matches:\n",
    "            st.write(f\"**{match['title']}** ({match['company']})\")\n",
    "            st.write(f\"Ссылка: {match['link']}\")\n",
    "            st.write(f\"Оценка соответствия: {match['match_score']:.2f}\")\n",
    "    else:\n",
    "        st.error(\"Введите текст резюме!\")\n"
   ]
  },
  {
   "cell_type": "code",
   "execution_count": null,
   "id": "f57f4696",
   "metadata": {},
   "outputs": [],
   "source": []
  }
 ],
 "metadata": {
  "kernelspec": {
   "display_name": "Python 3",
   "language": "python",
   "name": "python3"
  },
  "language_info": {
   "codemirror_mode": {
    "name": "ipython",
    "version": 3
   },
   "file_extension": ".py",
   "mimetype": "text/x-python",
   "name": "python",
   "nbconvert_exporter": "python",
   "pygments_lexer": "ipython3",
   "version": "3.8.8"
  }
 },
 "nbformat": 4,
 "nbformat_minor": 5
}
