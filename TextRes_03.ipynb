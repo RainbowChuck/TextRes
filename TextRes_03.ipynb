{
 "cells": [
  {
   "cell_type": "code",
   "execution_count": 1,
   "id": "36f26781",
   "metadata": {},
   "outputs": [
    {
     "ename": "NameError",
     "evalue": "name 'input_dim' is not defined",
     "output_type": "error",
     "traceback": [
      "\u001b[0;31m---------------------------------------------------------------------------\u001b[0m",
      "\u001b[0;31mNameError\u001b[0m                                 Traceback (most recent call last)",
      "\u001b[0;32m<ipython-input-1-d4e47753b7b3>\u001b[0m in \u001b[0;36m<module>\u001b[0;34m\u001b[0m\n\u001b[1;32m      5\u001b[0m \u001b[0;31m# Создание модели\u001b[0m\u001b[0;34m\u001b[0m\u001b[0;34m\u001b[0m\u001b[0;34m\u001b[0m\u001b[0m\n\u001b[1;32m      6\u001b[0m model = Sequential([\n\u001b[0;32m----> 7\u001b[0;31m     \u001b[0mDense\u001b[0m\u001b[0;34m(\u001b[0m\u001b[0;36m128\u001b[0m\u001b[0;34m,\u001b[0m \u001b[0mactivation\u001b[0m\u001b[0;34m=\u001b[0m\u001b[0;34m'relu'\u001b[0m\u001b[0;34m,\u001b[0m \u001b[0minput_shape\u001b[0m\u001b[0;34m=\u001b[0m\u001b[0;34m(\u001b[0m\u001b[0minput_dim\u001b[0m\u001b[0;34m,\u001b[0m\u001b[0;34m)\u001b[0m\u001b[0;34m)\u001b[0m\u001b[0;34m,\u001b[0m\u001b[0;34m\u001b[0m\u001b[0;34m\u001b[0m\u001b[0m\n\u001b[0m\u001b[1;32m      8\u001b[0m     \u001b[0mDense\u001b[0m\u001b[0;34m(\u001b[0m\u001b[0;36m64\u001b[0m\u001b[0;34m,\u001b[0m \u001b[0mactivation\u001b[0m\u001b[0;34m=\u001b[0m\u001b[0;34m'relu'\u001b[0m\u001b[0;34m)\u001b[0m\u001b[0;34m,\u001b[0m\u001b[0;34m\u001b[0m\u001b[0;34m\u001b[0m\u001b[0m\n\u001b[1;32m      9\u001b[0m     \u001b[0mDense\u001b[0m\u001b[0;34m(\u001b[0m\u001b[0;36m1\u001b[0m\u001b[0;34m,\u001b[0m \u001b[0mactivation\u001b[0m\u001b[0;34m=\u001b[0m\u001b[0;34m'sigmoid'\u001b[0m\u001b[0;34m)\u001b[0m\u001b[0;34m\u001b[0m\u001b[0;34m\u001b[0m\u001b[0m\n",
      "\u001b[0;31mNameError\u001b[0m: name 'input_dim' is not defined"
     ]
    }
   ],
   "source": [
    "import tensorflow as tf\n",
    "from tensorflow.keras.models import Sequential\n",
    "from tensorflow.keras.layers import Dense\n",
    "\n",
    "# Создание модели\n",
    "model = Sequential([\n",
    "    Dense(128, activation='relu', input_shape=(input_dim,)),\n",
    "    Dense(64, activation='relu'),\n",
    "    Dense(1, activation='sigmoid')\n",
    "])\n",
    "\n",
    "# Компиляция модели\n",
    "model.compile(optimizer='adam', loss='binary_crossentropy', metrics=['accuracy'])\n",
    "\n",
    "# Обучение модели\n",
    "model.fit(X_train, y_train, epochs=10, batch_size=32, validation_data=(X_val, y_val))\n"
   ]
  },
  {
   "cell_type": "code",
   "execution_count": null,
   "id": "4c34ae1f",
   "metadata": {},
   "outputs": [],
   "source": [
    "import streamlit as st\n",
    "\n",
    "st.title(\"Интеллектуальный подбор сотрудников\")\n",
    "\n",
    "resume_text = st.text_area(\"Введите текст резюме\")\n",
    "job_description = st.text_area(\"Введите описание вакансии\")\n",
    "\n",
    "if st.button(\"Анализировать\"):\n",
    "    # Предобработка и векторизация текста\n",
    "    resume_vector = preprocess_and_vectorize(resume_text)\n",
    "    job_vector = preprocess_and_vectorize(job_description)\n",
    "    \n",
    "    # Предсказание\n",
    "    match_score = model.predict([resume_vector, job_vector])\n",
    "    \n",
    "    st.write(f\"Оценка соответствия: {match_score[0][0]:.2f}\")\n"
   ]
  },
  {
   "cell_type": "code",
   "execution_count": 2,
   "id": "0557473b",
   "metadata": {},
   "outputs": [
    {
     "name": "stdout",
     "output_type": "stream",
     "text": [
      "Epoch 1/10\n",
      "2/2 [==============================] - 1s 149ms/step - loss: 0.7141 - accuracy: 0.2500 - val_loss: 0.6763 - val_accuracy: 0.5000\n",
      "Epoch 2/10\n",
      "2/2 [==============================] - 0s 28ms/step - loss: 0.6441 - accuracy: 0.5000 - val_loss: 0.6245 - val_accuracy: 1.0000\n",
      "Epoch 3/10\n",
      "2/2 [==============================] - 0s 27ms/step - loss: 0.5802 - accuracy: 1.0000 - val_loss: 0.5754 - val_accuracy: 1.0000\n",
      "Epoch 4/10\n",
      "2/2 [==============================] - 0s 27ms/step - loss: 0.5258 - accuracy: 1.0000 - val_loss: 0.5303 - val_accuracy: 1.0000\n",
      "Epoch 5/10\n",
      "2/2 [==============================] - 0s 26ms/step - loss: 0.4781 - accuracy: 1.0000 - val_loss: 0.4885 - val_accuracy: 1.0000\n",
      "Epoch 6/10\n",
      "2/2 [==============================] - 0s 27ms/step - loss: 0.4345 - accuracy: 1.0000 - val_loss: 0.4495 - val_accuracy: 1.0000\n",
      "Epoch 7/10\n",
      "2/2 [==============================] - 0s 23ms/step - loss: 0.3938 - accuracy: 1.0000 - val_loss: 0.4132 - val_accuracy: 1.0000\n",
      "Epoch 8/10\n",
      "2/2 [==============================] - 0s 24ms/step - loss: 0.3550 - accuracy: 1.0000 - val_loss: 0.3774 - val_accuracy: 1.0000\n",
      "Epoch 9/10\n",
      "2/2 [==============================] - 0s 22ms/step - loss: 0.3159 - accuracy: 1.0000 - val_loss: 0.3429 - val_accuracy: 1.0000\n",
      "Epoch 10/10\n",
      "2/2 [==============================] - 0s 25ms/step - loss: 0.2779 - accuracy: 1.0000 - val_loss: 0.3107 - val_accuracy: 1.0000\n",
      "1/1 [==============================] - 0s 68ms/step\n",
      "Match score: 0.85\n"
     ]
    }
   ],
   "source": [
    "import numpy as np\n",
    "import tensorflow as tf\n",
    "from tensorflow.keras.models import Sequential\n",
    "from tensorflow.keras.layers import Dense\n",
    "from sklearn.feature_extraction.text import CountVectorizer\n",
    "from sklearn.model_selection import train_test_split\n",
    "\n",
    "# Пример данных\n",
    "resume_texts = [\n",
    "    \"Experienced in Python and Machine Learning\",\n",
    "    \"Expert in AWS and cloud technologies\",\n",
    "    \"Skilled in data analysis and SQL\"\n",
    "]\n",
    "job_texts = [\n",
    "    \"Looking for a Python developer with ML expertise\",\n",
    "    \"Hiring for an AWS specialist\",\n",
    "    \"Seeking a SQL data analyst\"\n",
    "]\n",
    "labels = [1, 1, 1]  # Метки, где 1 означает соответствие, а 0 - несоответствие\n",
    "\n",
    "# Предобработка: преобразование текстов в числовые векторы\n",
    "vectorizer = CountVectorizer()\n",
    "X = vectorizer.fit_transform(resume_texts + job_texts).toarray()\n",
    "\n",
    "# Размерность входного слоя\n",
    "input_dim = X.shape[1]\n",
    "\n",
    "# Разделение данных на обучающую и тестовую выборки\n",
    "X_train, X_test, y_train, y_test = train_test_split(X, labels * 2, test_size=0.2, random_state=42)\n",
    "\n",
    "# Создание модели\n",
    "model = Sequential([\n",
    "    Dense(128, activation='relu', input_shape=(input_dim,)),\n",
    "    Dense(64, activation='relu'),\n",
    "    Dense(1, activation='sigmoid')\n",
    "])\n",
    "\n",
    "# Компиляция модели\n",
    "model.compile(optimizer='adam', loss='binary_crossentropy', metrics=['accuracy'])\n",
    "\n",
    "# Обучение модели\n",
    "model.fit(np.array(X_train), np.array(y_train), epochs=10, batch_size=2, validation_data=(np.array(X_test), np.array(y_test)))\n",
    "\n",
    "# Тестирование\n",
    "sample_resume = \"Proficient in Python and SQL\"\n",
    "sample_job = \"Looking for a Python SQL developer\"\n",
    "sample_vector = vectorizer.transform([sample_resume + \" \" + sample_job]).toarray()\n",
    "prediction = model.predict(sample_vector)\n",
    "print(f\"Match score: {prediction[0][0]:.2f}\")\n"
   ]
  },
  {
   "cell_type": "code",
   "execution_count": null,
   "id": "62204536",
   "metadata": {},
   "outputs": [],
   "source": []
  }
 ],
 "metadata": {
  "kernelspec": {
   "display_name": "Python 3",
   "language": "python",
   "name": "python3"
  },
  "language_info": {
   "codemirror_mode": {
    "name": "ipython",
    "version": 3
   },
   "file_extension": ".py",
   "mimetype": "text/x-python",
   "name": "python",
   "nbconvert_exporter": "python",
   "pygments_lexer": "ipython3",
   "version": "3.8.8"
  }
 },
 "nbformat": 4,
 "nbformat_minor": 5
}
